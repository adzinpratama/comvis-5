{
 "cells": [
  {
   "cell_type": "code",
   "execution_count": 1,
   "id": "7f953bc6",
   "metadata": {},
   "outputs": [
    {
     "name": "stderr",
     "output_type": "stream",
     "text": [
      "Matplotlib is building the font cache; this may take a moment.\n"
     ]
    },
    {
     "name": "stdout",
     "output_type": "stream",
     "text": [
      "hymenoptera_data/\n",
      "hymenoptera_data/1\n",
      "hymenoptera_data/0\n",
      "hymenoptera_data/2\n",
      "(343, 120000)\n"
     ]
    }
   ],
   "source": [
    "import os\n",
    "import os.path\n",
    "import numpy as np\n",
    "import matplotlib.pyplot as plt\n",
    "X = []    \n",
    "import cv2\n",
    "\n",
    "#menentukan direktori/folder data citra yang akan dibuka\n",
    "dirname = 'hymenoptera_data/'  \n",
    "\n",
    "#menentukan ukuran tinggi dan lebar gambar\n",
    "height = 200\n",
    "width = 200\n",
    "dim = (width, height)\n",
    "\n",
    "#mengumpulkan data citra yang akan dibuka dalam satu array\n",
    "tampungan= [] \n",
    "for path, subdirs, files in os.walk(dirname):\n",
    "    print(path)\n",
    "    for name in files:\n",
    "        img_path = (os.path.join(path, name))\n",
    "        if img_path.endswith(\"jpg\"):\n",
    "            img = cv2.imread(img_path) #baca path data\n",
    "            \n",
    "            #preprocessing data / segentasi  boleh dilakukan\n",
    "            convert = cv2.cvtColor(img, cv2.COLOR_BGR2HSV)\n",
    "            resized=cv2.resize(convert,dim, interpolation=cv2.INTER_LINEAR)\n",
    "            blur = cv2.GaussianBlur(resized,(5,5),0)            \n",
    "            tampungan.append(blur.flatten())\n",
    "#             print(blur.shape)\n",
    "X = np.array(tampungan) \n",
    "#mengetahui ukuran dari np\n",
    "\n",
    "#labeling\n",
    "y0 = np.zeros(122)\n",
    "y1 = np.ones(121)\n",
    "y2 = np.full((100), 2)\n",
    "y = []\n",
    "y = np.concatenate((y0,y1,y2), axis=0)\n",
    "print(X.shape)"
   ]
  },
  {
   "cell_type": "code",
   "execution_count": 2,
   "id": "4ddbbb0a",
   "metadata": {},
   "outputs": [
    {
     "name": "stdout",
     "output_type": "stream",
     "text": [
      "X_train: (274, 120000)\n",
      "X_test: (69, 120000)\n",
      "y_train: (274,)\n",
      "y_test: (69,)\n"
     ]
    },
    {
     "data": {
      "text/plain": [
       "array([[ 51, 170,  94, ...,  45, 175, 106],\n",
       "       [ 18, 230, 254, ...,  36, 163,  65],\n",
       "       [ 30, 253,  38, ...,  26, 255, 155],\n",
       "       ...,\n",
       "       [ 49,  75, 173, ...,  43, 134, 131],\n",
       "       [ 19, 122,  69, ...,  20,  86,  54],\n",
       "       [ 10, 108,  69, ...,  27,  39,  69]], dtype=uint8)"
      ]
     },
     "execution_count": 2,
     "metadata": {},
     "output_type": "execute_result"
    }
   ],
   "source": [
    "from sklearn.model_selection import GridSearchCV, train_test_split #library untuk train test split\n",
    "\n",
    "#melakukan splitting data\n",
    "X_train, X_test, y_train, y_test = train_test_split(X, y,test_size=0.20, stratify=y) #train size adalah persentase data test yang di-split\n",
    "\n",
    "from builtins import range\n",
    "from builtins import object\n",
    "num_training = X_train.shape[0] #deklarasi untuk data training diambil dari X_train\n",
    "mask = list(range(num_training))\n",
    "X_train = X_train[mask]\n",
    "y_train = y_train[mask]\n",
    "\n",
    "num_test = X_test.shape[0] #deklarasi untuk data diambil dari Y_train\n",
    "mask = list(range(num_test))\n",
    "X_test = X_test[mask]\n",
    "y_test = y_test[mask]\n",
    "\n",
    "# Mengubah data citra menjadi baris\n",
    "X_train = np.reshape(X_train, (X_train.shape[0], -1))\n",
    "X_test = np.reshape(X_test, (X_test.shape[0], -1))\n",
    "\n",
    "print(\"X_train: \"+str(X_train.shape))\n",
    "print(\"X_test: \"+str(X_test.shape))\n",
    "print(\"y_train: \"+str(y_train.shape))\n",
    "print(\"y_test: \"+str(y_test.shape))\n",
    "X"
   ]
  },
  {
   "cell_type": "code",
   "execution_count": 3,
   "id": "97b01092",
   "metadata": {},
   "outputs": [],
   "source": [
    "from sklearn import svm\n",
    "\n",
    "# membangun model SVM\n",
    "model = svm.SVC(C=1.0, kernel=\"linear\" ,decision_function_shape='ovr', probability=True)\n",
    "weight_model = model.fit(X_train,y_train)"
   ]
  },
  {
   "cell_type": "code",
   "execution_count": 1,
   "id": "943dcc29",
   "metadata": {},
   "outputs": [],
   "source": [
    "import os\n",
    "import pickle\n",
    "\n",
    "def save_model(model, filename, path=\"\"): \n",
    "    with open(os.path.join(path, filename), 'wb') as out_name:\n",
    "        pickle.dump(model, out_name, pickle.HIGHEST_PROTOCOL)\n",
    "\n",
    "def read_model(filename, path=\"\"):\n",
    "    with open(os.path.join(path, filename), 'rb') as in_name:\n",
    "        model = pickle.load(in_name)\n",
    "        return model"
   ]
  },
  {
   "cell_type": "code",
   "execution_count": 5,
   "id": "13167eb7",
   "metadata": {},
   "outputs": [],
   "source": [
    "save_model(weight_model, \"animal.pkl\", path=\"\") #simpan model"
   ]
  },
  {
   "cell_type": "code",
   "execution_count": 2,
   "id": "65c92c70",
   "metadata": {},
   "outputs": [],
   "source": [
    "model = read_model(\"animal.pkl\", path=\"\") #load model"
   ]
  },
  {
   "cell_type": "code",
   "execution_count": 5,
   "id": "3ef948d8",
   "metadata": {},
   "outputs": [
    {
     "name": "stdout",
     "output_type": "stream",
     "text": [
      "kucing -> 0.8555648275310739\n",
      "{\"status\":\"Berhasil\",\"label\":\"kucing\",\"akurasi\":\"0.8555648275310739\",\"data\":{\"nama\":\"kucing\",\"akurasi\":\"0.8555648275310739\"}}\n",
      "Berhasil\n"
     ]
    },
    {
     "name": "stderr",
     "output_type": "stream",
     "text": [
      "/home/hapra/Asdos/api/api/lib/python3.8/site-packages/urllib3/connectionpool.py:1013: InsecureRequestWarning: Unverified HTTPS request is being made to host 'webapi.test'. Adding certificate verification is strongly advised. See: https://urllib3.readthedocs.io/en/1.26.x/advanced-usage.html#ssl-warnings\n",
      "  warnings.warn(\n"
     ]
    },
    {
     "name": "stdout",
     "output_type": "stream",
     "text": [
      "kucing -> 0.8555423158231481\n",
      "{\"status\":\"Berhasil\",\"label\":\"kucing\",\"akurasi\":\"0.8555423158231481\",\"data\":{\"nama\":\"kucing\",\"akurasi\":\"0.8555423158231481\"}}\n",
      "Berhasil\n"
     ]
    },
    {
     "name": "stderr",
     "output_type": "stream",
     "text": [
      "/home/hapra/Asdos/api/api/lib/python3.8/site-packages/urllib3/connectionpool.py:1013: InsecureRequestWarning: Unverified HTTPS request is being made to host 'webapi.test'. Adding certificate verification is strongly advised. See: https://urllib3.readthedocs.io/en/1.26.x/advanced-usage.html#ssl-warnings\n",
      "  warnings.warn(\n"
     ]
    },
    {
     "name": "stdout",
     "output_type": "stream",
     "text": [
      "kucing -> 0.8555333624598829\n",
      "{\"status\":\"Berhasil\",\"label\":\"kucing\",\"akurasi\":\"0.8555333624598829\",\"data\":{\"nama\":\"kucing\",\"akurasi\":\"0.8555333624598829\"}}\n",
      "Berhasil\n"
     ]
    },
    {
     "name": "stderr",
     "output_type": "stream",
     "text": [
      "/home/hapra/Asdos/api/api/lib/python3.8/site-packages/urllib3/connectionpool.py:1013: InsecureRequestWarning: Unverified HTTPS request is being made to host 'webapi.test'. Adding certificate verification is strongly advised. See: https://urllib3.readthedocs.io/en/1.26.x/advanced-usage.html#ssl-warnings\n",
      "  warnings.warn(\n"
     ]
    },
    {
     "name": "stdout",
     "output_type": "stream",
     "text": [
      "kucing -> 0.85576387573265\n",
      "{\"status\":\"Berhasil\",\"label\":\"kucing\",\"akurasi\":\"0.85576387573265\",\"data\":{\"nama\":\"kucing\",\"akurasi\":\"0.85576387573265\"}}\n",
      "Berhasil\n"
     ]
    },
    {
     "name": "stderr",
     "output_type": "stream",
     "text": [
      "/home/hapra/Asdos/api/api/lib/python3.8/site-packages/urllib3/connectionpool.py:1013: InsecureRequestWarning: Unverified HTTPS request is being made to host 'webapi.test'. Adding certificate verification is strongly advised. See: https://urllib3.readthedocs.io/en/1.26.x/advanced-usage.html#ssl-warnings\n",
      "  warnings.warn(\n"
     ]
    },
    {
     "name": "stdout",
     "output_type": "stream",
     "text": [
      "kucing -> 0.8557161052902951\n",
      "{\"status\":\"Berhasil\",\"label\":\"kucing\",\"akurasi\":\"0.8557161052902951\",\"data\":{\"nama\":\"kucing\",\"akurasi\":\"0.8557161052902951\"}}\n",
      "Berhasil\n"
     ]
    },
    {
     "name": "stderr",
     "output_type": "stream",
     "text": [
      "/home/hapra/Asdos/api/api/lib/python3.8/site-packages/urllib3/connectionpool.py:1013: InsecureRequestWarning: Unverified HTTPS request is being made to host 'webapi.test'. Adding certificate verification is strongly advised. See: https://urllib3.readthedocs.io/en/1.26.x/advanced-usage.html#ssl-warnings\n",
      "  warnings.warn(\n"
     ]
    },
    {
     "name": "stdout",
     "output_type": "stream",
     "text": [
      "kucing -> 0.8556184469578647\n",
      "{\"status\":\"Berhasil\",\"label\":\"kucing\",\"akurasi\":\"0.8556184469578647\",\"data\":{\"nama\":\"kucing\",\"akurasi\":\"0.8556184469578647\"}}\n",
      "Berhasil\n",
      "kucing -> 0.8556305844999996\n"
     ]
    },
    {
     "name": "stderr",
     "output_type": "stream",
     "text": [
      "/home/hapra/Asdos/api/api/lib/python3.8/site-packages/urllib3/connectionpool.py:1013: InsecureRequestWarning: Unverified HTTPS request is being made to host 'webapi.test'. Adding certificate verification is strongly advised. See: https://urllib3.readthedocs.io/en/1.26.x/advanced-usage.html#ssl-warnings\n",
      "  warnings.warn(\n",
      "/home/hapra/Asdos/api/api/lib/python3.8/site-packages/urllib3/connectionpool.py:1013: InsecureRequestWarning: Unverified HTTPS request is being made to host 'webapi.test'. Adding certificate verification is strongly advised. See: https://urllib3.readthedocs.io/en/1.26.x/advanced-usage.html#ssl-warnings\n",
      "  warnings.warn(\n"
     ]
    },
    {
     "name": "stdout",
     "output_type": "stream",
     "text": [
      "{\"status\":\"Berhasil\",\"label\":\"kucing\",\"akurasi\":\"0.8556305844999996\",\"data\":{\"nama\":\"kucing\",\"akurasi\":\"0.8556305844999996\"}}\n",
      "Berhasil\n",
      "kucing -> 0.8556139733815329\n",
      "{\"status\":\"Berhasil\",\"label\":\"kucing\",\"akurasi\":\"0.8556139733815329\",\"data\":{\"nama\":\"kucing\",\"akurasi\":\"0.8556139733815329\"}}\n",
      "Berhasil\n"
     ]
    },
    {
     "name": "stderr",
     "output_type": "stream",
     "text": [
      "/home/hapra/Asdos/api/api/lib/python3.8/site-packages/urllib3/connectionpool.py:1013: InsecureRequestWarning: Unverified HTTPS request is being made to host 'webapi.test'. Adding certificate verification is strongly advised. See: https://urllib3.readthedocs.io/en/1.26.x/advanced-usage.html#ssl-warnings\n",
      "  warnings.warn(\n"
     ]
    },
    {
     "name": "stdout",
     "output_type": "stream",
     "text": [
      "kucing -> 0.8555399326505398\n",
      "{\"status\":\"Berhasil\",\"label\":\"kucing\",\"akurasi\":\"0.8555399326505398\",\"data\":{\"nama\":\"kucing\",\"akurasi\":\"0.8555399326505398\"}}\n",
      "Berhasil\n"
     ]
    },
    {
     "name": "stderr",
     "output_type": "stream",
     "text": [
      "/home/hapra/Asdos/api/api/lib/python3.8/site-packages/urllib3/connectionpool.py:1013: InsecureRequestWarning: Unverified HTTPS request is being made to host 'webapi.test'. Adding certificate verification is strongly advised. See: https://urllib3.readthedocs.io/en/1.26.x/advanced-usage.html#ssl-warnings\n",
      "  warnings.warn(\n"
     ]
    },
    {
     "name": "stdout",
     "output_type": "stream",
     "text": [
      "kucing -> 0.8556840187324066\n",
      "{\"status\":\"Berhasil\",\"label\":\"kucing\",\"akurasi\":\"0.8556840187324066\",\"data\":{\"nama\":\"kucing\",\"akurasi\":\"0.8556840187324066\"}}\n",
      "Berhasil\n"
     ]
    },
    {
     "name": "stderr",
     "output_type": "stream",
     "text": [
      "/home/hapra/Asdos/api/api/lib/python3.8/site-packages/urllib3/connectionpool.py:1013: InsecureRequestWarning: Unverified HTTPS request is being made to host 'webapi.test'. Adding certificate verification is strongly advised. See: https://urllib3.readthedocs.io/en/1.26.x/advanced-usage.html#ssl-warnings\n",
      "  warnings.warn(\n"
     ]
    },
    {
     "name": "stdout",
     "output_type": "stream",
     "text": [
      "kucing -> 0.8556373535101389\n",
      "{\"status\":\"Berhasil\",\"label\":\"kucing\",\"akurasi\":\"0.8556373535101389\",\"data\":{\"nama\":\"kucing\",\"akurasi\":\"0.8556373535101389\"}}\n",
      "Berhasil\n"
     ]
    },
    {
     "name": "stderr",
     "output_type": "stream",
     "text": [
      "/home/hapra/Asdos/api/api/lib/python3.8/site-packages/urllib3/connectionpool.py:1013: InsecureRequestWarning: Unverified HTTPS request is being made to host 'webapi.test'. Adding certificate verification is strongly advised. See: https://urllib3.readthedocs.io/en/1.26.x/advanced-usage.html#ssl-warnings\n",
      "  warnings.warn(\n"
     ]
    },
    {
     "ename": "error",
     "evalue": "OpenCV(4.5.5) /io/opencv/modules/imgproc/src/color.cpp:182: error: (-215:Assertion failed) !_src.empty() in function 'cvtColor'\n",
     "output_type": "error",
     "traceback": [
      "\u001b[0;31m---------------------------------------------------------------------------\u001b[0m",
      "\u001b[0;31merror\u001b[0m                                     Traceback (most recent call last)",
      "\u001b[0;32m/tmp/ipykernel_22667/2864831535.py\u001b[0m in \u001b[0;36m<module>\u001b[0;34m\u001b[0m\n\u001b[1;32m     11\u001b[0m \u001b[0;32mwhile\u001b[0m\u001b[0;34m(\u001b[0m\u001b[0mcap\u001b[0m\u001b[0;34m.\u001b[0m\u001b[0misOpened\u001b[0m\u001b[0;34m(\u001b[0m\u001b[0;34m)\u001b[0m\u001b[0;34m)\u001b[0m\u001b[0;34m:\u001b[0m\u001b[0;34m\u001b[0m\u001b[0;34m\u001b[0m\u001b[0m\n\u001b[1;32m     12\u001b[0m     \u001b[0mret\u001b[0m\u001b[0;34m,\u001b[0m \u001b[0mframe\u001b[0m \u001b[0;34m=\u001b[0m \u001b[0mcap\u001b[0m\u001b[0;34m.\u001b[0m\u001b[0mread\u001b[0m\u001b[0;34m(\u001b[0m\u001b[0;34m)\u001b[0m\u001b[0;34m\u001b[0m\u001b[0;34m\u001b[0m\u001b[0m\n\u001b[0;32m---> 13\u001b[0;31m     \u001b[0mgray\u001b[0m \u001b[0;34m=\u001b[0m \u001b[0mcv2\u001b[0m\u001b[0;34m.\u001b[0m\u001b[0mcvtColor\u001b[0m\u001b[0;34m(\u001b[0m\u001b[0mframe\u001b[0m\u001b[0;34m,\u001b[0m \u001b[0mcv2\u001b[0m\u001b[0;34m.\u001b[0m\u001b[0mCOLOR_BGR2GRAY\u001b[0m\u001b[0;34m)\u001b[0m\u001b[0;34m\u001b[0m\u001b[0;34m\u001b[0m\u001b[0m\n\u001b[0m\u001b[1;32m     14\u001b[0m     \u001b[0mfaces\u001b[0m \u001b[0;34m=\u001b[0m \u001b[0mface_cascade\u001b[0m\u001b[0;34m.\u001b[0m\u001b[0mdetectMultiScale\u001b[0m\u001b[0;34m(\u001b[0m\u001b[0mgray\u001b[0m\u001b[0;34m,\u001b[0m \u001b[0mscaleFactor\u001b[0m\u001b[0;34m=\u001b[0m\u001b[0;36m1.5\u001b[0m\u001b[0;34m,\u001b[0m \u001b[0mminNeighbors\u001b[0m\u001b[0;34m=\u001b[0m\u001b[0;36m5\u001b[0m\u001b[0;34m)\u001b[0m\u001b[0;34m\u001b[0m\u001b[0;34m\u001b[0m\u001b[0m\n\u001b[1;32m     15\u001b[0m     \u001b[0;32mfor\u001b[0m \u001b[0;34m(\u001b[0m\u001b[0mx\u001b[0m\u001b[0;34m,\u001b[0m \u001b[0my\u001b[0m\u001b[0;34m,\u001b[0m \u001b[0mw\u001b[0m\u001b[0;34m,\u001b[0m \u001b[0mh\u001b[0m\u001b[0;34m)\u001b[0m \u001b[0;32min\u001b[0m \u001b[0mfaces\u001b[0m\u001b[0;34m:\u001b[0m\u001b[0;34m\u001b[0m\u001b[0;34m\u001b[0m\u001b[0m\n",
      "\u001b[0;31merror\u001b[0m: OpenCV(4.5.5) /io/opencv/modules/imgproc/src/color.cpp:182: error: (-215:Assertion failed) !_src.empty() in function 'cvtColor'\n"
     ]
    }
   ],
   "source": [
    "import requests\n",
    "import json\n",
    "\n",
    "url = 'http://webapi.test/index.php'\n",
    "import cv2\n",
    "from skimage.transform import resize\n",
    "labels = ['semut','lebah','kucing']\n",
    "face_cascade = cv2.CascadeClassifier('cascade/haarcascade_frontalface_default.xml')\n",
    "#file haar\n",
    "cap = cv2.VideoCapture('cat.mov') #read mp4 file\n",
    "while(cap.isOpened()):\n",
    "    ret, frame = cap.read()\n",
    "    gray = cv2.cvtColor(frame, cv2.COLOR_BGR2GRAY)\n",
    "    faces = face_cascade.detectMultiScale(gray, scaleFactor=1.5, minNeighbors=5)    \n",
    "    for (x, y, w, h) in faces:\n",
    "        roi_gray = gray[y:y + h, x:x + w]\n",
    "        roi_color = frame[y:y + h, x:x + w]\n",
    "        muka=resize(roi_gray,(200,200,3)) #wajib sama dengan citra inputan trainer\n",
    "        l=[muka.flatten()] #wajib di flatten\n",
    "        #model == model weight algoritma terbaik yg diload\n",
    "        id_= int(model.predict(l)[0]) #prediksi\n",
    "        conf =model.predict_proba(l)  #probabilitas akurasi tiap kelas\n",
    "        name = labels[id_]+' -> '+ str(conf[0][id_]) #tulisan buat hasil\n",
    "        print(name)\n",
    "        if conf.all() >= 0.5: #jika treshold lebih dari 50%\n",
    "          \n",
    "            font = cv2.QT_FONT_NORMAL\n",
    "            color = (255, 0, 0)\n",
    "            stroke = 2\n",
    "            cv2.putText(frame, name, (x, y), font, 1, color, stroke, cv2.LINE_AA) #teks tampil\n",
    "            cv2.rectangle(frame, (x, y), (x + w, y + h), (255, 0, 0), (2)) #kotakan deteksi\n",
    "        cv2.imshow('Object Detection', roi_gray)\n",
    "        # post api\n",
    "        myobj = {'nama' : labels[id_],'akurasi' : str(conf[0][id_])} #datanya\n",
    "        data = '?&nama='+labels[id_]+'&akurasi=' +str(conf[0][id_])\n",
    "        x = requests.get(url=url+data,verify=False) #request \n",
    "        print(x.text) #hasil masih json\n",
    "        y = json.loads(x.text) #convert json string\n",
    "        print(y[\"status\"]) \n",
    "        k = cv2.waitKey(20) & 0xff\n",
    "        if k == ord('q'):\n",
    "            break\n",
    "# cap.release()\n",
    "cv2.destroyAllWindows()"
   ]
  },
  {
   "cell_type": "code",
   "execution_count": null,
   "id": "a1687124",
   "metadata": {},
   "outputs": [],
   "source": []
  }
 ],
 "metadata": {
  "kernelspec": {
   "display_name": "Python 3 (ipykernel)",
   "language": "python",
   "name": "python3"
  },
  "language_info": {
   "codemirror_mode": {
    "name": "ipython",
    "version": 3
   },
   "file_extension": ".py",
   "mimetype": "text/x-python",
   "name": "python",
   "nbconvert_exporter": "python",
   "pygments_lexer": "ipython3",
   "version": "3.8.10"
  }
 },
 "nbformat": 4,
 "nbformat_minor": 5
}
